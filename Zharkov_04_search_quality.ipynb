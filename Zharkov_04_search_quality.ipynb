{
 "cells": [
  {
   "cell_type": "markdown",
   "metadata": {},
   "source": [
    "Лабораторная #4. Сравнить различные подходы к векторизации и построению индексных структур на данных, загруженных в лабораторной #1. Свести все в одну таблицу результатов."
   ]
  },
  {
   "cell_type": "code",
   "execution_count": 35,
   "metadata": {},
   "outputs": [],
   "source": [
    "import re\n",
    "from collections import defaultdict\n",
    "from sklearn.feature_extraction.text import TfidfVectorizer, CountVectorizer\n",
    "from sklearn.metrics.pairwise import cosine_similarity\n",
    "import pandas as pd"
   ]
  },
  {
   "cell_type": "code",
   "execution_count": 36,
   "metadata": {},
   "outputs": [],
   "source": [
    "import re\n",
    "from collections import defaultdict\n",
    "from sklearn.feature_extraction.text import TfidfVectorizer\n",
    "\n",
    "# Чтение текста страниц из файла content.txt\n",
    "def read_content_file(filepath):\n",
    "    with open(filepath, 'r', encoding='utf-8') as file:\n",
    "        content = file.read().strip()\n",
    "    pages = content.split('---page---')\n",
    "    return [page.strip() for page in pages if page.strip()]\n",
    "\n",
    "# Чтение мета данных из файла meta_info.txt\n",
    "def read_meta_file(filepath):\n",
    "    with open(filepath, 'r', encoding='utf-8') as file:\n",
    "        meta = file.read()\n",
    "    return meta\n",
    "\n",
    "path = r'/Users/vlad-zharkov/Documents/Учеба/inf_search/‹ ¡  1/scraped_data_3/www_sports_ru/content_3.txt'\n",
    "path_processed = r'/Users/vlad-zharkov/Documents/Учеба/inf_search/‹ ¡  2/processed_content_3.txt'\n",
    "content_pages = read_content_file(path_processed)\n",
    "\n",
    "meta = read_meta_file(r\"/Users/vlad-zharkov/Documents/Учеба/inf_search/‹ ¡  1/scraped_data_3/meta_info_www_sports_ru_3.txt\")\n",
    "\n",
    "# Парсинг мета данных\n",
    "def parse_meta(meta):\n",
    "    meta_data = []\n",
    "    url_pattern = re.compile(r'URL: (.+)')\n",
    "    text_length_pattern = re.compile(r'Text Length: (\\d+)')\n",
    "    meta_lines = meta.strip().split('\\n')\n",
    "    \n",
    "    current_url = None\n",
    "    for line in meta_lines:\n",
    "        url_match = url_pattern.match(line)\n",
    "        text_length_match = text_length_pattern.match(line)\n",
    "        \n",
    "        if url_match:\n",
    "            current_url = url_match.group(1)\n",
    "        elif text_length_match:\n",
    "            text_length = int(text_length_match.group(1))\n",
    "            meta_data.append({\n",
    "                \"url\": current_url,\n",
    "                \"text_length\": text_length\n",
    "            })\n",
    "    \n",
    "    return meta_data\n",
    "\n",
    "meta_data = parse_meta(meta)\n",
    "\n",
    "data = []\n",
    "for idx, doc in enumerate(meta_data):\n",
    "    #print(content_pages[idx])\n",
    "    data.append({\n",
    "        \"id\": idx + 1,\n",
    "        \"url\": doc[\"url\"],\n",
    "        \"content\": content_pages[idx]\n",
    "    })\n",
    "\n"
   ]
  },
  {
   "cell_type": "code",
   "execution_count": 37,
   "metadata": {},
   "outputs": [],
   "source": [
    "import re\n",
    "import numpy as np\n",
    "from collections import defaultdict\n",
    "from sklearn.feature_extraction.text import TfidfVectorizer\n",
    "\n",
    "documents = [doc['content'] for doc in data]"
   ]
  },
  {
   "cell_type": "code",
   "execution_count": 38,
   "metadata": {},
   "outputs": [],
   "source": [
    "# Прямой индекс\n",
    "def create_forward_index(data):\n",
    "    forward_index = {}\n",
    "    for doc in data:\n",
    "        forward_index[doc['id']] = doc['content']\n",
    "    return forward_index\n",
    "\n",
    "forward_index = create_forward_index(data)\n",
    "\n",
    "# Функция для поиска в прямом индексе\n",
    "def search_forward_index(query, forward_index):\n",
    "    query_words = re.findall(r'\\w+', query.lower())\n",
    "    doc_scores = defaultdict(int)\n",
    "    for doc_id, content in forward_index.items():\n",
    "        for word in query_words:\n",
    "            if word in content.lower():\n",
    "                doc_scores[doc_id] += 1\n",
    "    sorted_docs = sorted(doc_scores.items(), key=lambda item: item[1], reverse=True)\n",
    "    return [doc_id for doc_id, _ in sorted_docs]"
   ]
  },
  {
   "cell_type": "code",
   "execution_count": 39,
   "metadata": {},
   "outputs": [],
   "source": [
    "# Обратный индекс\n",
    "def create_inverted_index(documents):\n",
    "    inverted_index = defaultdict(list)\n",
    "    for doc_id, content in enumerate(documents):\n",
    "        words = re.findall(r'\\w+', content.lower())\n",
    "        for word in words:\n",
    "            inverted_index[word].append(doc_id)\n",
    "    return inverted_index\n",
    "\n",
    "inverted_index = create_inverted_index(documents)\n",
    "\n",
    "# Функция для поиска в обратном индексе\n",
    "def search_inverted_index(query, index):\n",
    "    query_words = re.findall(r'\\w+', query.lower())\n",
    "    doc_scores = defaultdict(int)\n",
    "    for word in query_words:\n",
    "        if word in index:\n",
    "            for doc_id in index[word]:\n",
    "                doc_scores[doc_id] += 1\n",
    "    sorted_docs = sorted(doc_scores.items(), key=lambda item: item[1], reverse=True)\n",
    "    return [doc_id for doc_id, _ in sorted_docs]"
   ]
  },
  {
   "cell_type": "code",
   "execution_count": 40,
   "metadata": {},
   "outputs": [],
   "source": [
    "# TF-IDF индекс\n",
    "vectorizer = TfidfVectorizer()\n",
    "tfidf_matrix = vectorizer.fit_transform(documents)\n",
    "\n",
    "# Функция для поиска в TF-IDF индексе\n",
    "def search_tfidf_index(query, tfidf_matrix, vectorizer):\n",
    "    query_vec = vectorizer.transform([query])\n",
    "    cosine_similarities = (tfidf_matrix * query_vec.T).toarray().flatten()\n",
    "    ranked_results = np.argsort(cosine_similarities)[::-1]\n",
    "    return ranked_results, cosine_similarities"
   ]
  },
  {
   "cell_type": "code",
   "execution_count": 76,
   "metadata": {},
   "outputs": [],
   "source": [
    "from sklearn.metrics import average_precision_score, ndcg_score\n",
    "import numpy as np\n",
    "\n",
    "def calculate_metrics(true_relevance, scores, k=5):\n",
    "    true_relevance = np.asarray(true_relevance)\n",
    "    scores = np.asarray(scores)\n",
    "    \n",
    "    # AP@5\n",
    "    ap_5 = average_precision_score(true_relevance[:k], scores[:k])\n",
    "    \n",
    "    # MAP@5\n",
    "    map_5 = np.mean([average_precision_score([rel], [score]) for rel, score in zip(true_relevance[:k], scores[:k])])\n",
    "    \n",
    "    # DCG@5\n",
    "    dcg_5 = ndcg_score([true_relevance], [scores], k=k)\n",
    "    \n",
    "    # nDCG@5\n",
    "    ndcg_5 = ndcg_score([true_relevance], [scores], k=k, ignore_ties=True)\n",
    "    \n",
    "    # MRR\n",
    "    try:\n",
    "        rank = np.where(true_relevance[:k] == 1)[0][0] + 1\n",
    "        mrr = 1.0 / rank\n",
    "    except IndexError:\n",
    "        mrr = 0.0\n",
    "    \n",
    "    return {\n",
    "        'AP@5': ap_5,\n",
    "        'MAP@5': map_5,\n",
    "        'DCG@5': dcg_5,\n",
    "        'nDCG@5': ndcg_5,\n",
    "        'MRR': mrr\n",
    "    }\n",
    "\n",
    "def get_true_relevance(query, documents):\n",
    "    query_words = re.findall(r'\\w+', query.lower())\n",
    "    relevance = []\n",
    "    for content in documents:\n",
    "        content_words = re.findall(r'\\w+', content.lower())\n",
    "        relevance.append(int(any(word in content_words for word in query_words)))\n",
    "    return relevance\n",
    "\n",
    "def compare_indices(query, documents, forward_index, inverted_index, tfidf_matrix, vectorizer):\n",
    "    true_relevance = get_true_relevance(query, documents)\n",
    "    \n",
    "    # Прямой индекс\n",
    "    forward_results = search_forward_index(query, forward_index)\n",
    "    forward_scores = [1 if doc_id in forward_results[:5] else 0 for doc_id in range(len(documents))]\n",
    "    \n",
    "    # Обратный индекс\n",
    "    inverted_results = search_inverted_index(query, inverted_index)\n",
    "    inverted_scores = [1 if doc_id in inverted_results[:5] else 0 for doc_id in range(len(documents))]\n",
    "    \n",
    "    # TF-IDF индекс\n",
    "    tfidf_results, tfidf_similarities = search_tfidf_index(query, tfidf_matrix, vectorizer)\n",
    "    tfidf_scores = [1 if doc_id in tfidf_results[:5] else 0 for doc_id in range(len(documents))]\n",
    "    \n",
    "    # Расчет метрик\n",
    "    metrics_forward = calculate_metrics(true_relevance, forward_scores)\n",
    "    metrics_inverted = calculate_metrics(true_relevance, inverted_scores)\n",
    "    metrics_tfidf = calculate_metrics(true_relevance, tfidf_scores)\n",
    "    \n",
    "    return {\n",
    "        'Forward Index': metrics_forward,\n",
    "        'Inverted Index': metrics_inverted,\n",
    "        'TF-IDF Index': metrics_tfidf\n",
    "    }\n"
   ]
  },
  {
   "cell_type": "code",
   "execution_count": 81,
   "metadata": {},
   "outputs": [
    {
     "name": "stdout",
     "output_type": "stream",
     "text": [
      "        Forward Index  Inverted Index  TF-IDF Index\n",
      "AP@5              1.0             1.0           1.0\n",
      "MAP@5             1.0             1.0           1.0\n",
      "DCG@5             1.0             1.0           1.0\n",
      "nDCG@5            1.0             1.0           1.0\n",
      "MRR               1.0             1.0           1.0\n"
     ]
    }
   ],
   "source": [
    "query = \"Боруссия Реал\"\n",
    "results = compare_indices(query, documents, forward_index, inverted_index, tfidf_matrix, vectorizer)\n",
    "\n",
    "# Вывод результатов в виде таблицы\n",
    "df = pd.DataFrame(results)\n",
    "print(df)"
   ]
  },
  {
   "cell_type": "markdown",
   "metadata": {},
   "source": [
    "Поскольку матч Боруссия - Реал был главным 1ого июня, а я парсил сайт в этот же день, то неудивительно, что на каждой из первых страниц упоминается что-либо про этот матч."
   ]
  },
  {
   "cell_type": "code",
   "execution_count": 82,
   "metadata": {},
   "outputs": [
    {
     "name": "stdout",
     "output_type": "stream",
     "text": [
      "        Forward Index  Inverted Index  TF-IDF Index\n",
      "AP@5         0.200000             1.0      1.000000\n",
      "MAP@5        0.200000             0.2      0.200000\n",
      "DCG@5        0.005842             1.0      0.830189\n",
      "nDCG@5       0.000000             1.0      0.885460\n",
      "MRR          0.500000             0.5      0.500000\n"
     ]
    },
    {
     "name": "stderr",
     "output_type": "stream",
     "text": [
      "/Users/vlad-zharkov/Library/Python/3.9/lib/python/site-packages/sklearn/metrics/_ranking.py:1030: UserWarning: No positive class found in y_true, recall is set to one for all thresholds.\n",
      "  warnings.warn(\n",
      "/Users/vlad-zharkov/Library/Python/3.9/lib/python/site-packages/sklearn/metrics/_ranking.py:1030: UserWarning: No positive class found in y_true, recall is set to one for all thresholds.\n",
      "  warnings.warn(\n",
      "/Users/vlad-zharkov/Library/Python/3.9/lib/python/site-packages/sklearn/metrics/_ranking.py:1030: UserWarning: No positive class found in y_true, recall is set to one for all thresholds.\n",
      "  warnings.warn(\n",
      "/Users/vlad-zharkov/Library/Python/3.9/lib/python/site-packages/sklearn/metrics/_ranking.py:1030: UserWarning: No positive class found in y_true, recall is set to one for all thresholds.\n",
      "  warnings.warn(\n",
      "/Users/vlad-zharkov/Library/Python/3.9/lib/python/site-packages/sklearn/metrics/_ranking.py:1030: UserWarning: No positive class found in y_true, recall is set to one for all thresholds.\n",
      "  warnings.warn(\n",
      "/Users/vlad-zharkov/Library/Python/3.9/lib/python/site-packages/sklearn/metrics/_ranking.py:1030: UserWarning: No positive class found in y_true, recall is set to one for all thresholds.\n",
      "  warnings.warn(\n",
      "/Users/vlad-zharkov/Library/Python/3.9/lib/python/site-packages/sklearn/metrics/_ranking.py:1030: UserWarning: No positive class found in y_true, recall is set to one for all thresholds.\n",
      "  warnings.warn(\n",
      "/Users/vlad-zharkov/Library/Python/3.9/lib/python/site-packages/sklearn/metrics/_ranking.py:1030: UserWarning: No positive class found in y_true, recall is set to one for all thresholds.\n",
      "  warnings.warn(\n",
      "/Users/vlad-zharkov/Library/Python/3.9/lib/python/site-packages/sklearn/metrics/_ranking.py:1030: UserWarning: No positive class found in y_true, recall is set to one for all thresholds.\n",
      "  warnings.warn(\n",
      "/Users/vlad-zharkov/Library/Python/3.9/lib/python/site-packages/sklearn/metrics/_ranking.py:1030: UserWarning: No positive class found in y_true, recall is set to one for all thresholds.\n",
      "  warnings.warn(\n",
      "/Users/vlad-zharkov/Library/Python/3.9/lib/python/site-packages/sklearn/metrics/_ranking.py:1030: UserWarning: No positive class found in y_true, recall is set to one for all thresholds.\n",
      "  warnings.warn(\n",
      "/Users/vlad-zharkov/Library/Python/3.9/lib/python/site-packages/sklearn/metrics/_ranking.py:1030: UserWarning: No positive class found in y_true, recall is set to one for all thresholds.\n",
      "  warnings.warn(\n"
     ]
    }
   ],
   "source": [
    "query = \"Гасперини\"\n",
    "results = compare_indices(query, documents, forward_index, inverted_index, tfidf_matrix, vectorizer)\n",
    "\n",
    "# Вывод результатов в виде таблицы\n",
    "df = pd.DataFrame(results)\n",
    "print(df)"
   ]
  },
  {
   "cell_type": "markdown",
   "metadata": {},
   "source": [
    "Гасперини - тренер команды, которая была главной новостью прошлой недели. В связи с этим у прямого индекса низкие значения - эта новость уже стара. Но при этом его фамиилия есть где-то на сайте среди ссылок или старых новостей из-за чего метрики неравны нулю."
   ]
  },
  {
   "cell_type": "code",
   "execution_count": 83,
   "metadata": {},
   "outputs": [
    {
     "name": "stdout",
     "output_type": "stream",
     "text": [
      "        Forward Index  Inverted Index  TF-IDF Index\n",
      "AP@5             -0.0            -0.0          -0.0\n",
      "MAP@5             0.0             0.0           0.0\n",
      "DCG@5             0.0             0.0           0.0\n",
      "nDCG@5            0.0             0.0           0.0\n",
      "MRR               0.0             0.0           0.0\n"
     ]
    },
    {
     "name": "stderr",
     "output_type": "stream",
     "text": [
      "/Users/vlad-zharkov/Library/Python/3.9/lib/python/site-packages/sklearn/metrics/_ranking.py:1030: UserWarning: No positive class found in y_true, recall is set to one for all thresholds.\n",
      "  warnings.warn(\n",
      "/Users/vlad-zharkov/Library/Python/3.9/lib/python/site-packages/sklearn/metrics/_ranking.py:1030: UserWarning: No positive class found in y_true, recall is set to one for all thresholds.\n",
      "  warnings.warn(\n",
      "/Users/vlad-zharkov/Library/Python/3.9/lib/python/site-packages/sklearn/metrics/_ranking.py:1030: UserWarning: No positive class found in y_true, recall is set to one for all thresholds.\n",
      "  warnings.warn(\n",
      "/Users/vlad-zharkov/Library/Python/3.9/lib/python/site-packages/sklearn/metrics/_ranking.py:1030: UserWarning: No positive class found in y_true, recall is set to one for all thresholds.\n",
      "  warnings.warn(\n",
      "/Users/vlad-zharkov/Library/Python/3.9/lib/python/site-packages/sklearn/metrics/_ranking.py:1030: UserWarning: No positive class found in y_true, recall is set to one for all thresholds.\n",
      "  warnings.warn(\n",
      "/Users/vlad-zharkov/Library/Python/3.9/lib/python/site-packages/sklearn/metrics/_ranking.py:1030: UserWarning: No positive class found in y_true, recall is set to one for all thresholds.\n",
      "  warnings.warn(\n",
      "/Users/vlad-zharkov/Library/Python/3.9/lib/python/site-packages/sklearn/metrics/_ranking.py:1030: UserWarning: No positive class found in y_true, recall is set to one for all thresholds.\n",
      "  warnings.warn(\n",
      "/Users/vlad-zharkov/Library/Python/3.9/lib/python/site-packages/sklearn/metrics/_ranking.py:1030: UserWarning: No positive class found in y_true, recall is set to one for all thresholds.\n",
      "  warnings.warn(\n",
      "/Users/vlad-zharkov/Library/Python/3.9/lib/python/site-packages/sklearn/metrics/_ranking.py:1030: UserWarning: No positive class found in y_true, recall is set to one for all thresholds.\n",
      "  warnings.warn(\n",
      "/Users/vlad-zharkov/Library/Python/3.9/lib/python/site-packages/sklearn/metrics/_ranking.py:1030: UserWarning: No positive class found in y_true, recall is set to one for all thresholds.\n",
      "  warnings.warn(\n",
      "/Users/vlad-zharkov/Library/Python/3.9/lib/python/site-packages/sklearn/metrics/_ranking.py:1030: UserWarning: No positive class found in y_true, recall is set to one for all thresholds.\n",
      "  warnings.warn(\n",
      "/Users/vlad-zharkov/Library/Python/3.9/lib/python/site-packages/sklearn/metrics/_ranking.py:1030: UserWarning: No positive class found in y_true, recall is set to one for all thresholds.\n",
      "  warnings.warn(\n",
      "/Users/vlad-zharkov/Library/Python/3.9/lib/python/site-packages/sklearn/metrics/_ranking.py:1030: UserWarning: No positive class found in y_true, recall is set to one for all thresholds.\n",
      "  warnings.warn(\n",
      "/Users/vlad-zharkov/Library/Python/3.9/lib/python/site-packages/sklearn/metrics/_ranking.py:1030: UserWarning: No positive class found in y_true, recall is set to one for all thresholds.\n",
      "  warnings.warn(\n",
      "/Users/vlad-zharkov/Library/Python/3.9/lib/python/site-packages/sklearn/metrics/_ranking.py:1030: UserWarning: No positive class found in y_true, recall is set to one for all thresholds.\n",
      "  warnings.warn(\n",
      "/Users/vlad-zharkov/Library/Python/3.9/lib/python/site-packages/sklearn/metrics/_ranking.py:1030: UserWarning: No positive class found in y_true, recall is set to one for all thresholds.\n",
      "  warnings.warn(\n",
      "/Users/vlad-zharkov/Library/Python/3.9/lib/python/site-packages/sklearn/metrics/_ranking.py:1030: UserWarning: No positive class found in y_true, recall is set to one for all thresholds.\n",
      "  warnings.warn(\n",
      "/Users/vlad-zharkov/Library/Python/3.9/lib/python/site-packages/sklearn/metrics/_ranking.py:1030: UserWarning: No positive class found in y_true, recall is set to one for all thresholds.\n",
      "  warnings.warn(\n"
     ]
    }
   ],
   "source": [
    "query = \"Аршавин\"\n",
    "results = compare_indices(query, documents, forward_index, inverted_index, tfidf_matrix, vectorizer)\n",
    "\n",
    "# Вывод результатов в виде таблицы\n",
    "df = pd.DataFrame(results)\n",
    "print(df)"
   ]
  },
  {
   "cell_type": "markdown",
   "metadata": {},
   "source": [
    "Про Аршавина нет новостей."
   ]
  },
  {
   "cell_type": "markdown",
   "metadata": {},
   "source": [
    "### В целом, из-за того что новости живут очень недолго, а также из-за того, что они все ссылаются друг на друга, очень часто видны противоположные ситуации: либо все метрики равны 1, так как новость свежая, либо 0, если новостей по запросу нет. Найти запрос, при котором какие-либо метрики находтся между 0 и 1 мне представляется весьма непростым, в ноутбуке приведен только один пример такого запроса."
   ]
  }
 ],
 "metadata": {
  "kernelspec": {
   "display_name": "Python 3",
   "language": "python",
   "name": "python3"
  },
  "language_info": {
   "codemirror_mode": {
    "name": "ipython",
    "version": 3
   },
   "file_extension": ".py",
   "mimetype": "text/x-python",
   "name": "python",
   "nbconvert_exporter": "python",
   "pygments_lexer": "ipython3",
   "version": "3.9.6"
  }
 },
 "nbformat": 4,
 "nbformat_minor": 2
}
